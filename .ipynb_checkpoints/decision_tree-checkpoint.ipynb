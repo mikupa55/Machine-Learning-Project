{
 "cells": [
  {
   "cell_type": "code",
   "execution_count": 42,
   "metadata": {
    "collapsed": true
   },
   "outputs": [],
   "source": [
    "import pandas as pd\n",
    "import numpy as np\n",
    "from sklearn import tree"
   ]
  },
  {
   "cell_type": "code",
   "execution_count": 3,
   "metadata": {
    "collapsed": false
   },
   "outputs": [],
   "source": [
    "#botdata = pd.read_csv('botAccounts.csv')\n",
    "#gooddata= pd.read_csv('GoodAccounts.csv', encoding = 'ISO-8859-1')"
   ]
  },
  {
   "cell_type": "code",
   "execution_count": 4,
   "metadata": {
    "collapsed": false
   },
   "outputs": [],
   "source": [
    "testbot = pd.read_csv(\"/Users/lilixu/Desktop/ML/Machine-Learning-Project/data/bots_data.csv\", encoding = 'ISO-8859-1')\n",
    "testgood = pd.read_csv(\"/Users/lilixu/Desktop/ML/Machine-Learning-Project/data/nonbots_data.csv\", encoding = 'ISO-8859-1')"
   ]
  },
  {
   "cell_type": "code",
   "execution_count": 6,
   "metadata": {
    "collapsed": false
   },
   "outputs": [
    {
     "data": {
      "text/html": [
       "<div>\n",
       "<table border=\"1\" class=\"dataframe\">\n",
       "  <thead>\n",
       "    <tr style=\"text-align: right;\">\n",
       "      <th></th>\n",
       "      <th>id</th>\n",
       "      <th>id_str</th>\n",
       "      <th>screen_name</th>\n",
       "      <th>location</th>\n",
       "      <th>description</th>\n",
       "      <th>url</th>\n",
       "      <th>followers_count</th>\n",
       "      <th>friends_count</th>\n",
       "      <th>listedcount</th>\n",
       "      <th>created_at</th>\n",
       "      <th>favourites_count</th>\n",
       "      <th>verified</th>\n",
       "      <th>statuses_count</th>\n",
       "      <th>lang</th>\n",
       "      <th>status</th>\n",
       "      <th>default_profile</th>\n",
       "      <th>default_profile_image</th>\n",
       "      <th>has_extended_profile</th>\n",
       "      <th>name</th>\n",
       "      <th>bot</th>\n",
       "    </tr>\n",
       "  </thead>\n",
       "  <tbody>\n",
       "    <tr>\n",
       "      <th>0</th>\n",
       "      <td>3.982732e+09</td>\n",
       "      <td>3982731976</td>\n",
       "      <td>mcgucket_bot</td>\n",
       "      <td>NaN</td>\n",
       "      <td>A bot that tweets every line said by Fiddlefor...</td>\n",
       "      <td>NaN</td>\n",
       "      <td>1129</td>\n",
       "      <td>7</td>\n",
       "      <td>2</td>\n",
       "      <td>Sat Oct 17 22:35:31 +0000 2015</td>\n",
       "      <td>0</td>\n",
       "      <td>False</td>\n",
       "      <td>23557</td>\n",
       "      <td>en</td>\n",
       "      <td>{'retweeted': False, 'is_quote_status': False,...</td>\n",
       "      <td>False</td>\n",
       "      <td>False</td>\n",
       "      <td>False</td>\n",
       "      <td>McGucket bot</td>\n",
       "      <td>1</td>\n",
       "    </tr>\n",
       "    <tr>\n",
       "      <th>1</th>\n",
       "      <td>8.410000e+17</td>\n",
       "      <td>8.41E+17</td>\n",
       "      <td>BowieK66</td>\n",
       "      <td>NaN</td>\n",
       "      <td>NaN</td>\n",
       "      <td>NaN</td>\n",
       "      <td>0</td>\n",
       "      <td>22</td>\n",
       "      <td>0</td>\n",
       "      <td>13/03/2017 22:21</td>\n",
       "      <td>0</td>\n",
       "      <td>False</td>\n",
       "      <td>1</td>\n",
       "      <td>en</td>\n",
       "      <td>Status(_api=&lt;tweepy.api.API object at 0x101927...</td>\n",
       "      <td>True</td>\n",
       "      <td>True</td>\n",
       "      <td>False</td>\n",
       "      <td>MJ Kuhn</td>\n",
       "      <td>1</td>\n",
       "    </tr>\n",
       "    <tr>\n",
       "      <th>2</th>\n",
       "      <td>2.768375e+09</td>\n",
       "      <td>2768374981</td>\n",
       "      <td>ducknoteprice</td>\n",
       "      <td>NaN</td>\n",
       "      <td>NaN</td>\n",
       "      <td>NaN</td>\n",
       "      <td>3</td>\n",
       "      <td>0</td>\n",
       "      <td>3</td>\n",
       "      <td>Mon Aug 25 23:17:59 +0000 2014</td>\n",
       "      <td>0</td>\n",
       "      <td>False</td>\n",
       "      <td>1050</td>\n",
       "      <td>en</td>\n",
       "      <td>{'created_at': 'Fri Feb 26 17:01:15 +0000 2016...</td>\n",
       "      <td>True</td>\n",
       "      <td>False</td>\n",
       "      <td>False</td>\n",
       "      <td>duckNote</td>\n",
       "      <td>1</td>\n",
       "    </tr>\n",
       "    <tr>\n",
       "      <th>3</th>\n",
       "      <td>3.304189e+09</td>\n",
       "      <td>3304189373</td>\n",
       "      <td>robotrecipes</td>\n",
       "      <td>robot kitchen</td>\n",
       "      <td>tasty recipes for robot // not for human // a ...</td>\n",
       "      <td>http://t.co/PdagJGqVMR</td>\n",
       "      <td>505</td>\n",
       "      <td>13</td>\n",
       "      <td>49</td>\n",
       "      <td>Sat May 30 23:42:16 +0000 2015</td>\n",
       "      <td>0</td>\n",
       "      <td>False</td>\n",
       "      <td>5109</td>\n",
       "      <td>en</td>\n",
       "      <td>{u'contributors': None, u'truncated': False, u...</td>\n",
       "      <td>False</td>\n",
       "      <td>False</td>\n",
       "      <td>False</td>\n",
       "      <td>robot recipes</td>\n",
       "      <td>1</td>\n",
       "    </tr>\n",
       "    <tr>\n",
       "      <th>4</th>\n",
       "      <td>3.224289e+09</td>\n",
       "      <td>3224289024</td>\n",
       "      <td>everyumlaut</td>\n",
       "      <td>NaN</td>\n",
       "      <td>bot by @dbaker_h</td>\n",
       "      <td>NaN</td>\n",
       "      <td>15</td>\n",
       "      <td>0</td>\n",
       "      <td>11</td>\n",
       "      <td>Sat May 23 14:39:21 +0000 2015</td>\n",
       "      <td>0</td>\n",
       "      <td>False</td>\n",
       "      <td>31365</td>\n",
       "      <td>en-gb</td>\n",
       "      <td>{u'contributors': None, u'truncated': False, u...</td>\n",
       "      <td>True</td>\n",
       "      <td>False</td>\n",
       "      <td>False</td>\n",
       "      <td>ÌÇvÌÇrÌÀ Ì_mlÌ_Ì_¼Ñ</td>\n",
       "      <td>1</td>\n",
       "    </tr>\n",
       "  </tbody>\n",
       "</table>\n",
       "</div>"
      ],
      "text/plain": [
       "             id      id_str    screen_name       location  \\\n",
       "0  3.982732e+09  3982731976   mcgucket_bot            NaN   \n",
       "1  8.410000e+17    8.41E+17       BowieK66            NaN   \n",
       "2  2.768375e+09  2768374981  ducknoteprice            NaN   \n",
       "3  3.304189e+09  3304189373   robotrecipes  robot kitchen   \n",
       "4  3.224289e+09  3224289024    everyumlaut            NaN   \n",
       "\n",
       "                                         description                     url  \\\n",
       "0  A bot that tweets every line said by Fiddlefor...                     NaN   \n",
       "1                                                NaN                     NaN   \n",
       "2                                                NaN                     NaN   \n",
       "3  tasty recipes for robot // not for human // a ...  http://t.co/PdagJGqVMR   \n",
       "4                                   bot by @dbaker_h                     NaN   \n",
       "\n",
       "   followers_count  friends_count  listedcount  \\\n",
       "0             1129              7            2   \n",
       "1                0             22            0   \n",
       "2                3              0            3   \n",
       "3              505             13           49   \n",
       "4               15              0           11   \n",
       "\n",
       "                       created_at  favourites_count verified  statuses_count  \\\n",
       "0  Sat Oct 17 22:35:31 +0000 2015                 0    False           23557   \n",
       "1                13/03/2017 22:21                 0    False               1   \n",
       "2  Mon Aug 25 23:17:59 +0000 2014                 0    False            1050   \n",
       "3  Sat May 30 23:42:16 +0000 2015                 0    False            5109   \n",
       "4  Sat May 23 14:39:21 +0000 2015                 0    False           31365   \n",
       "\n",
       "    lang                                             status default_profile  \\\n",
       "0     en  {'retweeted': False, 'is_quote_status': False,...           False   \n",
       "1     en  Status(_api=<tweepy.api.API object at 0x101927...            True   \n",
       "2     en  {'created_at': 'Fri Feb 26 17:01:15 +0000 2016...            True   \n",
       "3     en  {u'contributors': None, u'truncated': False, u...           False   \n",
       "4  en-gb  {u'contributors': None, u'truncated': False, u...            True   \n",
       "\n",
       "  default_profile_image has_extended_profile                  name  bot  \n",
       "0                 False                False          McGucket bot    1  \n",
       "1                  True                False               MJ Kuhn    1  \n",
       "2                 False                False              duckNote    1  \n",
       "3                 False                False         robot recipes    1  \n",
       "4                 False                False  ÌÇvÌÇrÌÀ Ì_mlÌ_Ì_¼Ñ    1  "
      ]
     },
     "execution_count": 6,
     "metadata": {},
     "output_type": "execute_result"
    }
   ],
   "source": [
    "df.head()"
   ]
  },
  {
   "cell_type": "code",
   "execution_count": 22,
   "metadata": {
    "collapsed": false
   },
   "outputs": [
    {
     "data": {
      "text/plain": [
       "(1176, 20)"
      ]
     },
     "execution_count": 22,
     "metadata": {},
     "output_type": "execute_result"
    }
   ],
   "source": [
    "testgood.shape"
   ]
  },
  {
   "cell_type": "code",
   "execution_count": 23,
   "metadata": {
    "collapsed": false
   },
   "outputs": [
    {
     "data": {
      "text/plain": [
       "(2232, 20)"
      ]
     },
     "execution_count": 23,
     "metadata": {},
     "output_type": "execute_result"
    }
   ],
   "source": [
    "df.shape"
   ]
  },
  {
   "cell_type": "code",
   "execution_count": 24,
   "metadata": {
    "collapsed": false
   },
   "outputs": [],
   "source": [
    "#modify the column name to fit\n",
    "def adjust_column_name(df):\n",
    "    for x in df.columns.values:\n",
    "        df = df.rename(columns={x: x.lower()})\n",
    "    df = df.rename(columns={'listed_count' : 'listedcount'})"
   ]
  },
  {
   "cell_type": "code",
   "execution_count": 25,
   "metadata": {
    "collapsed": false
   },
   "outputs": [
    {
     "name": "stderr",
     "output_type": "stream",
     "text": [
      "/Library/Frameworks/Python.framework/Versions/3.5/lib/python3.5/site-packages/sklearn/cross_validation.py:44: DeprecationWarning: This module was deprecated in version 0.18 in favor of the model_selection module into which all the refactored classes and functions are moved. Also note that the interface of the new CV iterators are different from that of this module. This module will be removed in 0.20.\n",
      "  \"This module will be removed in 0.20.\", DeprecationWarning)\n"
     ]
    }
   ],
   "source": [
    "# split the dataset to training & testing\n",
    "from sklearn.cross_validation import train_test_split\n",
    "train, test = train_test_split(df, test_size = 0.2)"
   ]
  },
  {
   "cell_type": "code",
   "execution_count": 26,
   "metadata": {
    "collapsed": false
   },
   "outputs": [],
   "source": [
    "from sklearn.linear_model import LogisticRegression\n",
    "from sklearn.feature_extraction.text import CountVectorizer\n",
    "from sklearn.cross_validation import cross_val_score\n",
    "from sklearn.feature_extraction.text import TfidfTransformer\n",
    "from sklearn.naive_bayes import MultinomialNB, BernoulliNB, GaussianNB\n",
    "from sklearn.metrics import precision_score, recall_score, f1_score, roc_auc_score, accuracy_score"
   ]
  },
  {
   "cell_type": "code",
   "execution_count": 27,
   "metadata": {
    "collapsed": true
   },
   "outputs": [],
   "source": [
    "df = testbot.append(testgood).fillna(\"\")"
   ]
  },
  {
   "cell_type": "code",
   "execution_count": 30,
   "metadata": {
    "collapsed": true
   },
   "outputs": [],
   "source": [
    "def nb_dt(nb_column_name):\n",
    "    train, test = train_test_split(df, test_size = 0.2)\n",
    "    numfeatures = ['followers_count', 'friends_count', 'listedcount','favourites_count','statuses_count','default_profile','default_profile_image','verified']\n",
    "    #numfeatures = ['followers_count', 'friends_count', 'listedcount','favourites_count','statuses_count','nb_result']\n",
    "    count_vect = CountVectorizer()\n",
    "    \n",
    "    def convert(column):\n",
    "        X_word_counts = count_vect.fit_transform(column)\n",
    "        count_vect.vocabulary_.get(u'algorithm')\n",
    "        tf_transformer = TfidfTransformer(use_idf=False).fit(X_word_counts)\n",
    "        X_word_tf = tf_transformer.transform(X_word_counts)\n",
    "        return X_word_tf.todense()\n",
    "    \n",
    "    def convert2(column):\n",
    "        X_word_counts = count_vect.transform(test[nb_column_name])\n",
    "        tf_transformer = TfidfTransformer(use_idf=False).fit(X_word_counts)\n",
    "        X_word_tf = tf_transformer.transform(X_word_counts)\n",
    "        return X_word_tf.todense()\n",
    "    \n",
    "    #Train\n",
    "    clf = tree.DecisionTreeClassifier(random_state=0)\n",
    "    M_clf = MultinomialNB().fit(convert(train[nb_column_name]), train['bot'])\n",
    "    train['nb_result'] = M_clf.predict(convert(train[nb_column_name]))\n",
    "    clf.fit(train[numfeatures],train[\"bot\"])\n",
    "    #Test\n",
    "    test['nb_result'] = M_clf.predict(convert2(train[nb_column_name]))\n",
    "    \n",
    "    #Evaluate\n",
    "    accuracy = accuracy_score(clf.predict(test[numfeatures]),test['bot'])\n",
    "    precison = precision_score(clf.predict(test[numfeatures]),test['bot'])\n",
    "    recall = recall_score(clf.predict(test[numfeatures]),test['bot'])\n",
    "    f1 = f1_score(clf.predict(test[numfeatures]),test['bot'])\n",
    "    roc = roc_auc_score(clf.predict(test[numfeatures]),test['bot'])\n",
    "    return [accuracy, precison, recall, f1, roc]"
   ]
  },
  {
   "cell_type": "code",
   "execution_count": 32,
   "metadata": {
    "collapsed": false
   },
   "outputs": [
    {
     "name": "stderr",
     "output_type": "stream",
     "text": [
      "/Library/Frameworks/Python.framework/Versions/3.5/lib/python3.5/site-packages/ipykernel/__main__.py:23: SettingWithCopyWarning: \n",
      "A value is trying to be set on a copy of a slice from a DataFrame.\n",
      "Try using .loc[row_indexer,col_indexer] = value instead\n",
      "\n",
      "See the caveats in the documentation: http://pandas.pydata.org/pandas-docs/stable/indexing.html#indexing-view-versus-copy\n",
      "/Library/Frameworks/Python.framework/Versions/3.5/lib/python3.5/site-packages/ipykernel/__main__.py:26: SettingWithCopyWarning: \n",
      "A value is trying to be set on a copy of a slice from a DataFrame.\n",
      "Try using .loc[row_indexer,col_indexer] = value instead\n",
      "\n",
      "See the caveats in the documentation: http://pandas.pydata.org/pandas-docs/stable/indexing.html#indexing-view-versus-copy\n"
     ]
    },
    {
     "name": "stdout",
     "output_type": "stream",
     "text": [
      "[0.83668903803131989, 0.80930232558139537, 0.84466019417475724, 0.82660332541567694, 0.83726785642347823]\n",
      "[0.83892617449664431, 0.839622641509434, 0.82407407407407407, 0.83177570093457942, 0.83844396344396344]\n",
      "[0.83892617449664431, 0.81304347826086953, 0.8657407407407407, 0.83856502242152453, 0.83979677729677726]\n",
      "[0.85011185682326618, 0.81481481481481477, 0.86699507389162567, 0.84009546539379476, 0.85153032383105876]\n",
      "[0.84787472035794187, 0.85427135678391963, 0.8133971291866029, 0.83333333333333337, 0.84577419484540217]\n",
      "[0.85011185682326618, 0.83856502242152464, 0.85779816513761464, 0.84807256235827666, 0.85029646248147106]\n",
      "[0.87024608501118572, 0.85116279069767442, 0.87559808612440193, 0.8632075471698113, 0.87057215230589846]\n",
      "[0.83668903803131989, 0.83255813953488367, 0.82870370370370372, 0.83062645011600922, 0.83642977392977391]\n",
      "[0.87695749440715887, 0.88317757009345799, 0.86301369863013699, 0.87297921478060048, 0.87668228791155967]\n",
      "[0.8232662192393736, 0.79090909090909089, 0.84057971014492749, 0.81498829039812648, 0.82445652173913053]\n"
     ]
    }
   ],
   "source": [
    "for _ in range(10):\n",
    "    print(nb_dt('description'))"
   ]
  },
  {
   "cell_type": "code",
   "execution_count": 36,
   "metadata": {
    "collapsed": false
   },
   "outputs": [],
   "source": [
    "def dt():\n",
    "    numfeatures = ['followers_count', 'friends_count', 'listedcount','favourites_count','statuses_count','default_profile','default_profile_image','verified']\n",
    "    train, test = train_test_split(df, test_size = 0.2)\n",
    "    clf = tree.DecisionTreeClassifier(random_state=0)\n",
    "    clf.fit(train[numfeatures],train[\"bot\"])\n",
    "    accuracy = accuracy_score(clf.predict(test[numfeatures]),test['bot'])\n",
    "    precison = precision_score(clf.predict(test[numfeatures]),test['bot'])\n",
    "    recall = recall_score(clf.predict(test[numfeatures]),test['bot'])\n",
    "    f1 = f1_score(clf.predict(test[numfeatures]),test['bot'])\n",
    "    roc = roc_auc_score(clf.predict(test[numfeatures]),test['bot'])\n",
    "    return [accuracy, precison, recall, f1, roc]"
   ]
  },
  {
   "cell_type": "code",
   "execution_count": 37,
   "metadata": {
    "collapsed": false
   },
   "outputs": [
    {
     "name": "stdout",
     "output_type": "stream",
     "text": [
      "[0.83221476510067116, 0.84507042253521125, 0.81081081081081086, 0.82758620689655182, 0.83207207207207201]\n",
      "[0.84787472035794187, 0.83173076923076927, 0.83980582524271841, 0.83574879227053134, 0.84728880473754165]\n",
      "[0.84787472035794187, 0.84079601990049746, 0.82439024390243898, 0.83251231527093594, 0.84607941947188059]\n",
      "[0.80089485458612975, 0.84313725490196079, 0.75109170305676853, 0.79445727482678974, 0.80215135611554023]\n",
      "[0.83445190156599558, 0.85167464114832536, 0.80542986425339369, 0.82790697674418612, 0.83413086133023662]\n",
      "[0.86353467561521258, 0.86036036036036034, 0.86425339366515841, 0.86230248306997748, 0.86354262603611898]\n",
      "[0.84116331096196872, 0.8232323232323232, 0.81909547738693467, 0.82115869017632237, 0.83898322256443514]\n",
      "[0.8232662192393736, 0.80829015544041449, 0.78787878787878785, 0.79795396419437337, 0.81964220518437381]\n",
      "[0.85011185682326618, 0.81990521327014221, 0.85643564356435642, 0.83777239709443108, 0.85066680137401485]\n",
      "[0.83892617449664431, 0.85507246376811596, 0.80821917808219179, 0.83098591549295786, 0.83832011535688544]\n"
     ]
    }
   ],
   "source": [
    "for _ in range(10):\n",
    "    print(dt())"
   ]
  },
  {
   "cell_type": "code",
   "execution_count": 24,
   "metadata": {
    "collapsed": false
   },
   "outputs": [],
   "source": [
    "for attr in literal_eval(x):\n",
    "    df[attr] = (ast.literal_eval(df['status'])).astype(int)"
   ]
  },
  {
   "cell_type": "code",
   "execution_count": 22,
   "metadata": {
    "collapsed": true
   },
   "outputs": [],
   "source": [
    "import ast"
   ]
  },
  {
   "cell_type": "code",
   "execution_count": 113,
   "metadata": {
    "collapsed": false
   },
   "outputs": [],
   "source": [
    "df['name_has_bot'] = df['name'].str.contains('bot')"
   ]
  },
  {
   "cell_type": "code",
   "execution_count": 118,
   "metadata": {
    "collapsed": false
   },
   "outputs": [
    {
     "data": {
      "text/plain": [
       "array(['id', 'id_str', 'screen_name', 'location', 'description', 'url',\n",
       "       'followers_count', 'friends_count', 'listedcount', 'created_at',\n",
       "       'favourites_count', 'verified', 'statuses_count', 'lang', 'status',\n",
       "       'default_profile', 'default_profile_image', 'has_extended_profile',\n",
       "       'name', 'bot', 'name_has_bot'], dtype=object)"
      ]
     },
     "execution_count": 118,
     "metadata": {},
     "output_type": "execute_result"
    }
   ],
   "source": [
    "df.columns.values"
   ]
  }
 ],
 "metadata": {
  "kernelspec": {
   "display_name": "Python 3",
   "language": "python",
   "name": "python3"
  },
  "language_info": {
   "codemirror_mode": {
    "name": "ipython",
    "version": 3
   },
   "file_extension": ".py",
   "mimetype": "text/x-python",
   "name": "python",
   "nbconvert_exporter": "python",
   "pygments_lexer": "ipython3",
   "version": "3.5.2"
  }
 },
 "nbformat": 4,
 "nbformat_minor": 1
}
