{
 "cells": [
  {
   "cell_type": "code",
   "execution_count": 869,
   "metadata": {
    "collapsed": true
   },
   "outputs": [],
   "source": [
    "import pandas as pd\n",
    "import numpy as np\n",
    "from sklearn.cross_validation import train_test_split"
   ]
  },
  {
   "cell_type": "code",
   "execution_count": 941,
   "metadata": {
    "collapsed": false
   },
   "outputs": [],
   "source": [
    "df = pd.read_csv('/Users/lilixu/Desktop/training_data_2.csv').dropna(how='all').rename(columns={'favourites_count': 'favorites_count', 'listedcount': 'listed_count'})"
   ]
  },
  {
   "cell_type": "code",
   "execution_count": 959,
   "metadata": {
    "collapsed": false
   },
   "outputs": [],
   "source": [
    "df['name_has_bot'] = df['name'].str.lower().str.contains('bot')\n",
    "df['sname_has_bot'] = df['screen_name'].str.lower().str.contains('bot')\n",
    "df['dp_has_bot'] = df['description'].str.lower().str.contains('bot').fillna(False)\n",
    "df['dp_has_alert'] = df['description'].str.lower().str.contains('alert').fillna(False)\n",
    "df['name_has_alert'] = df['name'].str.lower().str.contains('alert').fillna(False)\n",
    "df['dp_has_at'] = df['description'].str.lower().str.contains('@').fillna(False)\n",
    "df['dp_has_pound'] = df['description'].str.lower().str.contains('#').fillna(False)\n",
    "df['dp_has_every'] = df['description'].str.lower().str.contains('every').fillna(False)\n",
    "df['is_en'] = df['lang'].str.lower().str.contains('en').fillna(True)\n",
    "df['has_loc'] = df['location'].fillna(False).astype(bool)\n",
    "df['has_dp'] = df['description'].fillna(False).astype(bool)\n",
    "df['loc_has_bot'] = df['location'].str.lower().str.contains('bot').fillna(False)\n",
    "df['st_has_bot'] = df['status'].str.lower().str.contains('bot').fillna(False)"
   ]
  },
  {
   "cell_type": "code",
   "execution_count": 960,
   "metadata": {
    "collapsed": false
   },
   "outputs": [],
   "source": [
    "df['name_has_alert'] = df['name'].str.lower().str.contains('alert').fillna(False)"
   ]
  },
  {
   "cell_type": "code",
   "execution_count": 949,
   "metadata": {
    "collapsed": false,
    "scrolled": true
   },
   "outputs": [
    {
     "data": {
      "text/plain": [
       "0       1\n",
       "49      1\n",
       "84      1\n",
       "439     1\n",
       "473     1\n",
       "590     1\n",
       "813     1\n",
       "1049    1\n",
       "1098    1\n",
       "1219    1\n",
       "1304    1\n",
       "1307    1\n",
       "Name: bot, dtype: int64"
      ]
     },
     "execution_count": 949,
     "metadata": {},
     "output_type": "execute_result"
    }
   ],
   "source": [
    "df[df['name_has_alert']]['bot']"
   ]
  },
  {
   "cell_type": "code",
   "execution_count": 961,
   "metadata": {
    "collapsed": false
   },
   "outputs": [],
   "source": [
    "temp = []\n",
    "for x in df['status']:\n",
    "    if type(x) != str or x =='None' or x =='null':\n",
    "        temp.append(False)\n",
    "    else:\n",
    "        temp.append(True)\n",
    "df['has_st'] = temp\n",
    "\n",
    "temp = []\n",
    "for x in df['url']:\n",
    "    if type(x) != str or x =='None' or x == 'null':\n",
    "        temp.append(False)\n",
    "    else:\n",
    "        temp.append(True)\n",
    "df['has_url'] = temp"
   ]
  },
  {
   "cell_type": "code",
   "execution_count": 962,
   "metadata": {
    "collapsed": false
   },
   "outputs": [],
   "source": [
    "temp = []\n",
    "for x in df['status']:\n",
    "    if (type(x) is str and not all(ord(chr) < 128 for chr in x)):\n",
    "        temp.append(False)\n",
    "    else:\n",
    "        temp.append(True)\n",
    "df['st_is_asc'] = temp\n",
    "\n",
    "temp = []\n",
    "for x, y in zip(df['description'],df['name']):\n",
    "    if (type(x) is str and not all(ord(chr) < 128 for chr in x)) or not all(ord(chr) < 128 for chr in y):\n",
    "        temp.append(False)\n",
    "    else:\n",
    "        temp.append(True)\n",
    "df['dp_is_asc'] = temp"
   ]
  },
  {
   "cell_type": "code",
   "execution_count": 963,
   "metadata": {
    "collapsed": false
   },
   "outputs": [],
   "source": [
    "temp = []\n",
    "for x in df['description']:\n",
    "    if type(x) is str:\n",
    "        temp.append(len(x))\n",
    "    else:\n",
    "        temp.append(0)\n",
    "df['len_dp'] = temp\n",
    "\n",
    "temp = []\n",
    "for x in df['screen_name']:\n",
    "    if type(x) is str:\n",
    "        temp.append(len(x))\n",
    "    else:\n",
    "        temp.append(0)\n",
    "df['len_sname'] = temp\n",
    "\n",
    "temp = []\n",
    "for x in df['name']:\n",
    "    if type(x) is str:\n",
    "        temp.append(len(x))\n",
    "    else:\n",
    "        temp.append(0)\n",
    "df['len_name'] = temp\n",
    "\n",
    "temp = []\n",
    "for x in df['description']:\n",
    "    if type(x) is str:\n",
    "        temp.append(len(x.split(' ')))\n",
    "    else:\n",
    "        temp.append(0)\n",
    "df['count_dp'] = temp\n",
    "\n",
    "temp = []\n",
    "for x in df['location']:\n",
    "    if type(x) is str:\n",
    "        temp.append(len(x))\n",
    "    else:\n",
    "        temp.append(0)\n",
    "df['len_loc'] = temp"
   ]
  },
  {
   "cell_type": "code",
   "execution_count": 964,
   "metadata": {
    "collapsed": false
   },
   "outputs": [],
   "source": [
    "df[\"default_profile\"] = df[\"default_profile\"].fillna(False)\n",
    "df[\"default_profile_image\"] = df[\"default_profile_image\"].fillna(False)\n",
    "df[\"has_extended_profile\"] = df[\"has_extended_profile\"].fillna(False)\n",
    "df['verified'] = df[\"verified\"].fillna(False)"
   ]
  },
  {
   "cell_type": "code",
   "execution_count": 965,
   "metadata": {
    "collapsed": false
   },
   "outputs": [],
   "source": [
    "temp = []\n",
    "for x in df['created_at']:\n",
    "    for year in range(2006,2018):\n",
    "        if str(year) in x:\n",
    "            temp.append(year)\n",
    "df['year']= temp"
   ]
  },
  {
   "cell_type": "code",
   "execution_count": 966,
   "metadata": {
    "collapsed": true
   },
   "outputs": [],
   "source": [
    "numfeatures = ['followers_count', 'friends_count', 'listed_count','favorites_count','statuses_count'] + ['year'] + ['name_has_bot', 'sname_has_bot','dp_has_bot', 'is_en', 'has_loc','has_url','has_dp', 'has_st', 'dp_has_at','dp_has_pound','dp_has_every','dp_is_asc','st_is_asc','loc_has_bot','st_has_bot','dp_has_alert','name_has_alert'] + [\"default_profile\",\"default_profile_image\",\"has_extended_profile\", 'verified']+ ['len_dp', 'len_sname', 'count_dp', 'len_loc','len_name']"
   ]
  },
  {
   "cell_type": "code",
   "execution_count": 967,
   "metadata": {
    "collapsed": false
   },
   "outputs": [
    {
     "name": "stdout",
     "output_type": "stream",
     "text": [
      "0.914375 0.894642857143 0.935714285714\n"
     ]
    }
   ],
   "source": [
    "def rf():\n",
    "    train, test = train_test_split(df, test_size = 0.2)\n",
    "    random_forest = RandomForestClassifier(n_estimators=150)\n",
    "    random_forest.fit(train[numfeatures],train['bot'])\n",
    "    return random_forest.score(test[numfeatures],test['bot'])\n",
    "res = [rf() for _ in range(20)]\n",
    "print(sum(res)/20.0, min(res), max(res))"
   ]
  },
  {
   "cell_type": "code",
   "execution_count": 968,
   "metadata": {
    "collapsed": true
   },
   "outputs": [],
   "source": [
    "random_forest = RandomForestClassifier(n_estimators=150)"
   ]
  },
  {
   "cell_type": "code",
   "execution_count": 969,
   "metadata": {
    "collapsed": false
   },
   "outputs": [
    {
     "data": {
      "text/plain": [
       "RandomForestClassifier(bootstrap=True, class_weight=None, criterion='gini',\n",
       "            max_depth=None, max_features='auto', max_leaf_nodes=None,\n",
       "            min_impurity_split=1e-07, min_samples_leaf=1,\n",
       "            min_samples_split=2, min_weight_fraction_leaf=0.0,\n",
       "            n_estimators=150, n_jobs=1, oob_score=False, random_state=None,\n",
       "            verbose=0, warm_start=False)"
      ]
     },
     "execution_count": 969,
     "metadata": {},
     "output_type": "execute_result"
    }
   ],
   "source": [
    "random_forest.fit(df[numfeatures],df['bot'])"
   ]
  },
  {
   "cell_type": "markdown",
   "metadata": {},
   "source": [
    "# Submission"
   ]
  },
  {
   "cell_type": "code",
   "execution_count": 881,
   "metadata": {
    "collapsed": true
   },
   "outputs": [],
   "source": [
    "df2 = pd.read_csv('/Users/lilixu/Desktop/test_data_4_students.csv').dropna(how='all')"
   ]
  },
  {
   "cell_type": "code",
   "execution_count": 971,
   "metadata": {
    "collapsed": true
   },
   "outputs": [],
   "source": [
    "df2['name_has_bot'] = df2['name'].str.lower().str.contains('bot')\n",
    "df2['sname_has_bot'] = df2['screen_name'].str.lower().str.contains('bot')\n",
    "df2['dp_has_alert'] = df2['description'].str.lower().str.contains('alert').fillna(False)\n",
    "df2['name_has_alert'] = df2['name'].str.lower().str.contains('alert').fillna(False)\n",
    "df2['dp_has_bot'] = df2['description'].str.lower().str.contains('bot').fillna(False)\n",
    "df2['dp_has_at'] = df2['description'].str.lower().str.contains('@').fillna(False)\n",
    "df2['dp_has_pound'] = df2['description'].str.lower().str.contains('#').fillna(False)\n",
    "df2['dp_has_every'] = df2['description'].str.lower().str.contains('every').fillna(False)\n",
    "df2['is_en'] = df2[\"lang\"] == \"en\"\n",
    "df2['has_loc'] = df2['location'].fillna(False).astype(bool)\n",
    "df2['has_url'] = df2['url'].fillna(False).astype(bool)\n",
    "df2['has_dp'] = df2['description'].fillna(False).astype(bool)\n",
    "df2['loc_has_bot'] = df2['location'].str.lower().str.contains('bot').fillna(False)\n",
    "df2['st_has_bot'] = df2['status'].str.lower().str.contains('bot').fillna(False)"
   ]
  },
  {
   "cell_type": "code",
   "execution_count": 972,
   "metadata": {
    "collapsed": false
   },
   "outputs": [],
   "source": [
    "temp = []\n",
    "for x in df2['status']:\n",
    "    if type(x) != str or x =='None' or x =='null':\n",
    "        temp.append(False)\n",
    "    else:\n",
    "        temp.append(True)\n",
    "df2['has_st'] = temp\n",
    "\n",
    "temp = []\n",
    "for x in df2['url']:\n",
    "    if type(x) != str or x =='None'or x =='null':\n",
    "        temp.append(False)\n",
    "    else:\n",
    "        temp.append(True)\n",
    "df2['has_url'] = temp"
   ]
  },
  {
   "cell_type": "code",
   "execution_count": 973,
   "metadata": {
    "collapsed": true
   },
   "outputs": [],
   "source": [
    "temp = []\n",
    "for x in df2['created_at']:\n",
    "    for year in range(2006,2018):\n",
    "        if str(year) in x:\n",
    "            temp.append(year)\n",
    "df2['year'] = temp"
   ]
  },
  {
   "cell_type": "code",
   "execution_count": 974,
   "metadata": {
    "collapsed": false
   },
   "outputs": [],
   "source": [
    "for x in [\"default_profile\",\"default_profile_image\",\"has_extended_profile\", 'verified']:\n",
    "    temp = []\n",
    "    for y in df2[x]:\n",
    "        if y == 'TRUE':\n",
    "            temp.append(True)\n",
    "        else:\n",
    "            temp.append(False)\n",
    "    df2[x] = temp"
   ]
  },
  {
   "cell_type": "code",
   "execution_count": 975,
   "metadata": {
    "collapsed": true
   },
   "outputs": [],
   "source": [
    "temp = []\n",
    "for x in df2['status']:\n",
    "    if (type(x) is str and not all(ord(chr) < 128 for chr in x)):\n",
    "        temp.append(False)\n",
    "    else:\n",
    "        temp.append(True)\n",
    "df2['st_is_asc'] = temp\n",
    "\n",
    "temp = []\n",
    "for x, y in zip(df2['description'],df2['name']):\n",
    "    if (type(x) is str and not all(ord(chr) < 128 for chr in x)) or not all(ord(chr) < 128 for chr in y):\n",
    "        temp.append(False)\n",
    "    else:\n",
    "        temp.append(True)\n",
    "df2['dp_is_asc'] = temp"
   ]
  },
  {
   "cell_type": "code",
   "execution_count": 976,
   "metadata": {
    "collapsed": true
   },
   "outputs": [],
   "source": [
    "for x in ['followers_count', 'friends_count', 'listed_count','favorites_count','statuses_count']:\n",
    "    df2[x] = pd.to_numeric(df2[x],errors='coerce')\n",
    "    df2[x] = df2[x].fillna(df2[x].median())"
   ]
  },
  {
   "cell_type": "code",
   "execution_count": 977,
   "metadata": {
    "collapsed": false
   },
   "outputs": [],
   "source": [
    "temp = []\n",
    "for x in df2['description']:\n",
    "    if type(x) is str:\n",
    "        temp.append(len(x))\n",
    "    else:\n",
    "        temp.append(0)\n",
    "df2['len_dp'] = temp\n",
    "\n",
    "temp = []\n",
    "for x in df2['screen_name']:\n",
    "    if type(x) is str:\n",
    "        temp.append(len(x))\n",
    "    else:\n",
    "        temp.append(0)\n",
    "df2['len_sname'] = temp\n",
    "\n",
    "temp = []\n",
    "for x in df2['name']:\n",
    "    if type(x) is str:\n",
    "        temp.append(len(x))\n",
    "    else:\n",
    "        temp.append(0)\n",
    "df2['len_name'] = temp\n",
    "\n",
    "temp = []\n",
    "for x in df2['description']:\n",
    "    if type(x) is str:\n",
    "        temp.append(len(x.split(' ')))\n",
    "    else:\n",
    "        temp.append(0)\n",
    "df2['count_dp'] = temp\n",
    "\n",
    "temp = []\n",
    "for x in df2['location']:\n",
    "    if type(x) is str:\n",
    "        temp.append(len(x))\n",
    "    else:\n",
    "        temp.append(0)\n",
    "df2['len_loc'] = temp"
   ]
  },
  {
   "cell_type": "code",
   "execution_count": 978,
   "metadata": {
    "collapsed": false
   },
   "outputs": [],
   "source": [
    "df2['bot'] = random_forest.predict(df2[numfeatures])"
   ]
  },
  {
   "cell_type": "code",
   "execution_count": 979,
   "metadata": {
    "collapsed": false
   },
   "outputs": [],
   "source": [
    "submission = pd.DataFrame({\n",
    "        'id': df2['﻿id'].astype(int),\n",
    "        \"bot\": df2['bot'].astype(int),\n",
    "        \"name\": df2['screen_name']\n",
    "    })\n",
    "submission.to_csv('/Users/lilixu/Desktop/submission3.csv',header=True, index=False)"
   ]
  },
  {
   "cell_type": "code",
   "execution_count": null,
   "metadata": {
    "collapsed": true
   },
   "outputs": [],
   "source": []
  }
 ],
 "metadata": {
  "kernelspec": {
   "display_name": "Python 3",
   "language": "python",
   "name": "python3"
  },
  "language_info": {
   "codemirror_mode": {
    "name": "ipython",
    "version": 3
   },
   "file_extension": ".py",
   "mimetype": "text/x-python",
   "name": "python",
   "nbconvert_exporter": "python",
   "pygments_lexer": "ipython3",
   "version": "3.5.2"
  }
 },
 "nbformat": 4,
 "nbformat_minor": 1
}
