{
 "cells": [
  {
   "cell_type": "code",
   "execution_count": 1,
   "metadata": {
    "collapsed": false
   },
   "outputs": [
    {
     "name": "stderr",
     "output_type": "stream",
     "text": [
      "/Library/Frameworks/Python.framework/Versions/3.5/lib/python3.5/site-packages/sklearn/cross_validation.py:44: DeprecationWarning: This module was deprecated in version 0.18 in favor of the model_selection module into which all the refactored classes and functions are moved. Also note that the interface of the new CV iterators are different from that of this module. This module will be removed in 0.20.\n",
      "  \"This module will be removed in 0.20.\", DeprecationWarning)\n"
     ]
    }
   ],
   "source": [
    "import pandas as pd\n",
    "import numpy as np\n",
    "import random\n",
    "from sklearn.ensemble import RandomForestClassifier\n",
    "from sklearn.cross_validation import train_test_split"
   ]
  },
  {
   "cell_type": "code",
   "execution_count": 2,
   "metadata": {
    "collapsed": false
   },
   "outputs": [],
   "source": [
    "df = pd.read_csv('/Users/lilixu/Desktop/training_data_2.csv').dropna(how='all').rename(columns={'favourites_count': 'favorites_count', 'listedcount': 'listed_count'})"
   ]
  },
  {
   "cell_type": "code",
   "execution_count": 3,
   "metadata": {
    "collapsed": false
   },
   "outputs": [],
   "source": [
    "def derive_features(df):\n",
    "    df['name_has_bot'] = df['name'].str.lower().str.contains('bot')\n",
    "    df['sname_has_bot'] = df['screen_name'].str.lower().str.contains('bot')\n",
    "    df['dp_has_bot'] = df['description'].str.lower().str.contains('bot').fillna(False)\n",
    "    df['st_has_bot'] = df['status'].str.lower().str.contains('bot').fillna(False)\n",
    "    df['loc_has_bot'] = df['location'].str.lower().str.contains('bot').fillna(False)\n",
    "\n",
    "    df['dp_has_alert'] = df['description'].str.lower().str.contains('alert').fillna(False)\n",
    "    df['name_has_alert'] = df['name'].str.lower().str.contains('alert').fillna(False)\n",
    "    df['sname_has_alert'] = df['screen_name'].str.lower().str.contains('alert').fillna(False)\n",
    "\n",
    "    df['dp_has_at'] = df['description'].str.lower().str.contains('@').fillna(False)\n",
    "    df['dp_has_pound'] = df['description'].str.lower().str.contains('#').fillna(False)\n",
    "    df['dp_has_every'] = df['description'].str.lower().str.contains('every').fillna(False)\n",
    "    df['dp_has_auto'] = df['description'].str.lower().str.contains('auto').fillna(False)\n",
    "\n",
    "    df['is_en'] = df['lang'].str.lower().str.contains('en').fillna(True)\n",
    "\n",
    "    df['has_loc'] = df['location'].fillna(False).astype(bool)\n",
    "    df['has_dp'] = df['description'].fillna(False).astype(bool)\n",
    "    df['has_url'] = [False if type(x) != str or x =='None' or x == 'null' else True for x in df['url']]\n",
    "    df['has_st'] = [False if type(x) != str or x =='None' or x == 'null' else True for x in df['status']]\n",
    "    \n",
    "    #df['st_is_asc'] = [False if (type(x) is str and not all(ord(chr) < 128 for chr in x)) else True for x in df['status']]\n",
    "    df['dp_is_asc'] = [False if (type(x) is str and not all(ord(chr) < 128 for chr in x)) or not all(ord(chr) < 128 for chr in y) else True for x, y in zip(df['description'],df['name'])]\n",
    "    \n",
    "    df['count_dp'] = [len(x.split(' ')) if type(x) is str else 0 for x in df['description']]\n",
    "    df['len_dp'] = [len(x) if type(x) is str else 0 for x in df['description']]\n",
    "    df['len_name'] = [len(x) for x in df['name']]\n",
    "    df['len_sname'] = [len(x) for x in df['screen_name']]\n",
    "    df['len_loc'] = [len(x) if type(x) is str else 0 for x in df['location']]\n",
    "    \n",
    "    temp = []\n",
    "    for x in df['created_at']:\n",
    "        for year in range(2006,2018):\n",
    "            if str(year) in x:\n",
    "                temp.append(year)\n",
    "    df['year']= temp"
   ]
  },
  {
   "cell_type": "code",
   "execution_count": 4,
   "metadata": {
    "collapsed": false
   },
   "outputs": [],
   "source": [
    "derive_features(df)"
   ]
  },
  {
   "cell_type": "code",
   "execution_count": 5,
   "metadata": {
    "collapsed": false
   },
   "outputs": [],
   "source": [
    "df[\"default_profile\"] = df[\"default_profile\"].fillna(False)\n",
    "df[\"default_profile_image\"] = df[\"default_profile_image\"].fillna(False)\n",
    "df[\"has_extended_profile\"] = df[\"has_extended_profile\"].fillna(False)\n",
    "df['verified'] = df[\"verified\"].fillna(False)"
   ]
  },
  {
   "cell_type": "code",
   "execution_count": 6,
   "metadata": {
    "collapsed": true
   },
   "outputs": [],
   "source": [
    "numfeatures = ['followers_count','friends_count','listed_count','favorites_count','statuses_count',\n",
    "               \"default_profile\",\"default_profile_image\",\"has_extended_profile\", 'verified',\n",
    "               'name_has_bot', 'sname_has_bot','dp_has_bot', 'st_has_bot','loc_has_bot',\n",
    "               'dp_has_alert','name_has_alert', 'sname_has_alert',\n",
    "               'dp_has_at','dp_has_every','dp_has_auto', 'dp_has_pound',\n",
    "               'dp_is_asc',\n",
    "               'is_en', 'has_loc','has_url','has_dp', 'has_st',\n",
    "               'len_dp', 'len_sname', 'len_loc','len_name','year',\n",
    "              ]"
   ]
  },
  {
   "cell_type": "markdown",
   "metadata": {},
   "source": [
    "### Test"
   ]
  },
  {
   "cell_type": "code",
   "execution_count": 7,
   "metadata": {
    "collapsed": false
   },
   "outputs": [],
   "source": [
    "def rf():\n",
    "    train, test = train_test_split(df, test_size = 0.2)\n",
    "    random_forest = RandomForestClassifier(n_estimators=200)\n",
    "    random_forest.fit(train[numfeatures],train['bot'])\n",
    "    return random_forest.score(test[numfeatures],test['bot'])\n",
    "res = [rf() for _ in range(20)]"
   ]
  },
  {
   "cell_type": "code",
   "execution_count": 8,
   "metadata": {
    "collapsed": false
   },
   "outputs": [],
   "source": [
    "train, test = train_test_split(df, test_size = 0.2)\n",
    "random_forest = RandomForestClassifier(n_estimators=500)\n",
    "random_forest.fit(train[numfeatures],train['bot'])\n",
    "error = test[random_forest.predict(test[numfeatures]) != test['bot']]"
   ]
  },
  {
   "cell_type": "markdown",
   "metadata": {},
   "source": [
    "# Submission"
   ]
  },
  {
   "cell_type": "code",
   "execution_count": 9,
   "metadata": {
    "collapsed": true
   },
   "outputs": [],
   "source": [
    "df2 = pd.read_csv('/Users/lilixu/Desktop/test_data_4_students.csv').dropna(how='all')"
   ]
  },
  {
   "cell_type": "code",
   "execution_count": 10,
   "metadata": {
    "collapsed": true
   },
   "outputs": [],
   "source": [
    "derive_features(df2)"
   ]
  },
  {
   "cell_type": "code",
   "execution_count": 11,
   "metadata": {
    "collapsed": true
   },
   "outputs": [],
   "source": [
    "for x in [\"default_profile\",\"default_profile_image\",\"has_extended_profile\", 'verified']:\n",
    "    temp = []\n",
    "    for y in df2[x]:\n",
    "        if y == 'TRUE':\n",
    "            temp.append(True)\n",
    "        else:\n",
    "            temp.append(False)\n",
    "    df2[x] = temp\n",
    "\n",
    "for x in ['followers_count', 'friends_count', 'listed_count','favorites_count','statuses_count']:\n",
    "    df2[x] = pd.to_numeric(df2[x],errors='coerce')\n",
    "    df2[x] = df2[x].fillna(df2[x].median())"
   ]
  },
  {
   "cell_type": "code",
   "execution_count": 12,
   "metadata": {
    "collapsed": false
   },
   "outputs": [],
   "source": [
    "for _ in range(50):\n",
    "    random_forest = RandomForestClassifier(n_estimators=random.randint(100,500))\n",
    "    random_forest.fit(df[numfeatures],df['bot'])\n",
    "    df2['bot'] = df2['bot'] | random_forest.predict(df2[numfeatures]) \n",
    "\n",
    "submission_k = pd.DataFrame({\n",
    "        'id': df2['﻿id'].astype(int),\n",
    "        \"bot\": df2['bot'].astype(int)\n",
    "    })\n",
    "submission_k.to_csv('/Users/lilixu/Desktop/submission_k.csv',header=True, index=False)"
   ]
  },
  {
   "cell_type": "code",
   "execution_count": null,
   "metadata": {
    "collapsed": true
   },
   "outputs": [],
   "source": []
  }
 ],
 "metadata": {
  "kernelspec": {
   "display_name": "Python 3",
   "language": "python",
   "name": "python3"
  },
  "language_info": {
   "codemirror_mode": {
    "name": "ipython",
    "version": 3
   },
   "file_extension": ".py",
   "mimetype": "text/x-python",
   "name": "python",
   "nbconvert_exporter": "python",
   "pygments_lexer": "ipython3",
   "version": "3.5.2"
  }
 },
 "nbformat": 4,
 "nbformat_minor": 1
}
